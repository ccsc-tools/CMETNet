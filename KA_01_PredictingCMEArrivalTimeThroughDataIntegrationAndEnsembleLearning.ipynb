{
 "cells": [
  {
   "cell_type": "markdown",
   "metadata": {},
   "source": [
    "# **Predicting CME Arrival Time Through Data Integration And Ensemble Learning**"
   ]
  },
  {
   "cell_type": "markdown",
   "metadata": {
    "toc": true
   },
   "source": [
    "<h1><b>Table of Contents</b><span class=\"tocSkip\"></span> </h1>\n",
    "<div class=\"toc\">\n",
    "<!--     <ul class=\"toc-item\"> -->\n",
    "        <li><span><a href=\"#Template-Notebook-for-EarthCube---Long-Version\"\n",
    "                    data-toc-modified-id=\"Template-Notebook-for-EarthCube---Long-Version-1\"><span\n",
    "                        class=\"toc-item-num\">1&nbsp;&nbsp;</span>KA_01_PredictingCMEArrivalTimeThroughDataIntegrationAndEnsembleLearning</a></span>\n",
    "            <ul class=\"toc-item\" style='margin-top:0px; margin-bottom:0px'>\n",
    "                <li><span><a href=\"#Author(s)\" data-toc-modified-id=\"Author(s)-1.1\"><span\n",
    "                                class=\"toc-item-num\">1.1&nbsp;&nbsp;</span>Author(s)</a></span></li>\n",
    "                <li><span><a href=\"#Purpose\" data-toc-modified-id=\"Purpose-1.2\"><span\n",
    "                                class=\"toc-item-num\">1.2&nbsp;&nbsp;</span>Purpose</a></span></li>\n",
    "                <li><span><a href=\"#Methodology\" data-toc-modified-id=\"Methodology-1.3\"><span\n",
    "                                class=\"toc-item-num\">1.4&nbsp;&nbsp;</span>Methodology</a></span></li>\n",
    "                <li><span><a href=\"#Funding\" data-toc-modified-id=\"Funding-1.4\"><span\n",
    "                                class=\"toc-item-num\">1.5&nbsp;&nbsp;</span>Funding</a></span></li>\n",
    "                <li><span><a href=\"#Keywords\" data-toc-modified-id=\"Keywords-1.5\"><span\n",
    "                                class=\"toc-item-num\">1.6&nbsp;&nbsp;</span>Keywords</a></span></li>\n",
    "                <li><span><a href=\"#Citation\" data-toc-modified-id=\"Citation-1.6\"><span\n",
    "                                class=\"toc-item-num\">1.7&nbsp;&nbsp;</span>Citation</a></span></li>\n",
    "                <li><span style='display:inline'><a href=\"#Acknowledgements\" data-toc-modified-id=\"Acknowledgements-1.7\"><span\n",
    "                        class=\"toc-item-num\">1.8&nbsp;&nbsp;</span>Acknowledgements</a></span></li>                \n",
    "            </ul>\n",
    "        </li>\n",
    "<!--     </ul> -->\n",
    "    <li><span><a href=\"#Setup\" data-toc-modified-id=\"Setup-2\"><span\n",
    "                    class=\"toc-item-num\">2&nbsp;&nbsp;</span>Setup</a></span>\n",
    "    </li>\n",
    "<!--     </ul> -->\n",
    "    <li><span><a href=\"#Data-Processing-and-Analysis\" data-toc-modified-id=\"Data-Processing-and-Analysis-3\"><span\n",
    "                    class=\"toc-item-num\">3&nbsp;&nbsp;</span>Data Processing and Analysis</a></span></li>\n",
    "<!--     </ul> -->\n",
    "    <li><span><a href=\"#Binder\" data-toc-modified-id=\"Binder-4\"><span\n",
    "                    class=\"toc-item-num\">4&nbsp;&nbsp;</span>Binder</a></span></li>\n",
    "<!--     </ul> -->\n",
    "    <li><span><a href=\"#CMETNet-Training-and-Testing\" data-toc-modified-id=\"CMETNet-Training-and-Testing-5\"><span\n",
    "                    class=\"toc-item-num\">5&nbsp;&nbsp;</span>CMETNet Training and Testing</a></span>\n",
    "        <ul class=\"toc-item\" style='margin-top:0px;margin-bottom:0px'>\n",
    "            <li>\n",
    "                <span><a href=\"#CNN-Model-Training-and-Testing\"\n",
    "                        data-toc-modified-id=\"CNN-Model-Training-and-Testing-5.1\"><span\n",
    "                            class=\"toc-item-num\">5.1&nbsp;&nbsp;</span>CNN Model Training and Testing</a></span>\n",
    "            </li>\n",
    "            <li>\n",
    "                <span><a href=\"#COMB-Model-Training-and-Testing\"\n",
    "                        data-toc-modified-id=\"COMB-Model-Training-and-Testing-5.2\"><span\n",
    "                            class=\"toc-item-num\">5.2&nbsp;&nbsp;</span>COMB Model Training and Testing</a></span>\n",
    "            </li>            \n",
    "            <li>\n",
    "                <span><a href=\"#Testing-the-Ensemble-Learning-method\"\n",
    "                        data-toc-modified-id=\"Testing-the-Ensemble-Learning-method-5.3\"><span\n",
    "                            class=\"toc-item-num\">5.3&nbsp;&nbsp;</span>Testing the Ensemble Learning method</a></span>\n",
    "\n",
    "                      \n",
    "\n",
    "<!--     </ul> -->\n",
    "</div>            \n",
    "        </ul>\n",
    "    </li>\n",
    "    <li><span><a href=\"#Conclusions\" data-toc-modified-id=\"Conclusions-6\"><span\n",
    "                    class=\"toc-item-num\">6&nbsp;&nbsp;</span>Conclusions</a></span>\n",
    "    </li>\n",
    "    <li><span><a href=\"#CMETNet-paper\" data-toc-modified-id=\"CMETNet-paper-7\"><span\n",
    "                    class=\"toc-item-num\">7&nbsp;&nbsp;</span>CMETNet paper</a></span>\n",
    "    </li>    \n",
    "    </ul>\n",
    "</div>"
   ]
  },
  {
   "cell_type": "markdown",
   "metadata": {},
   "source": [
    "### **Author(s)**\n",
    "- Author1 = {\"name\": \"Khalid A. Alobaid\", \"affiliation\": \"Department of Computer Science, New Jersey Institute of Technology\", \"email\": \"kaa65@njit.edu\"}\n",
    "- Author2 = {\"name\": \"Yasser Abduallah\", \"affiliation\": \"Department of Computer Science, New Jersey Institute of Technology\", \"email\": \"ya54@njit.edu\", \"orcid\": \"https://orcid.org/0000-0003-0792-2270\"}\n",
    "- Author3 = {\"name\": \"Jason T. L. Wang\", \"affiliation\": \"Department of Computer Science, New Jersey Institute of Technology\", \"email\": \"wangj@njit.edu\", \"orcid\": \"https://orcid.org/0000-0002-2486-1097\"}\n",
    "- Author4 = {\"name\": \"Haimin Wang\", \"affiliation\": \"Institute for Space Weather Sciences, New Jersey Institute of Technology\", \"email\": \"haimin.wang@njit.edu\", \"orcid\": \"https://orcid.org/0000-0002-5233-565X\"}"
   ]
  },
  {
   "cell_type": "markdown",
   "metadata": {},
   "source": [
    "### **Purpose**\n",
    "The Sun constantly releases radiation and plasma into the heliosphere. Sporadically, the\n",
    "Sun launches solar eruptions such as flares and coronal mass ejections (CMEs). CMEs carry\n",
    "away a huge amount of mass and magnetic flux with them. An Earth-directed CME can cause\n",
    "serious consequences to the human system. It can destroy power grids/pipelines, satellites, and\n",
    "communications. Therefore, accurately monitoring and predicting CMEs is important to minimize\n",
    "damages to the human system. In this study we propose an ensemble learning approach, named\n",
    "CMETNet, for predicting the arrival time of CMEs from the Sun to the Earth.\n",
    "\n",
    "In this notebook we provide an overview of the CMETNet system to demonstrate how to predict the arrival time of CMEs using machine learning (ML) and data include CME features, solar wind parameters and CME images obtained from the SOHO/LASCO C2 coronagraph.\n",
    "\n",
    "\n",
    "### **Methodology**\n",
    "Our ensemble learning framework, named CMETNet and illustrated in Figure 1, comprises five base\n",
    "learners: (i) a support vector regression (SVR) algorithm , (ii) a random forest\n",
    "(RF) algorithm , (iii) a Gaussian process (GP) algorithm , (iv) an\n",
    "XGBoost (XGB) algorithm , and (v) a convolutional neural network (CNN) illustrated in Figure 2. The first four learners are regression algorithms used for analyzing the numeral/tabular\n",
    "data related to the CME features and solar wind parameters considered in the study. These four regression\n",
    "algorithms are commonly used in heliophysics and space weather research. The fifth learner is a CNN model\n",
    "used for CME image processing. More detials can be found in the paper.\n",
    "\n",
    "<img src='figures/CMETNet_architecture.jpg' width=\"700\" />\n",
    "<center>\n",
    "    (Figure 1)\n",
    " </center>\n",
    "<img src='figures/CNN_architecture.jpg' width=\"700\" />\n",
    "<center>\n",
    "    (Figure 2)\n",
    " </center>\n",
    " <br>\n",
    "\n",
    "\n",
    "### **Funding**\n",
    "This work was supported by U.S. NSF grants AGS-1927578, AGS-1954737 and AGS-2149748.key\n",
    "\n",
    "### **Keywords**\n",
    "keywords=[\"heliophysics\", \"space weather\", \"coronal mass ejections\", \"interplanetary shocks\", \"machine learning\"]\n",
    "\n",
    "\n",
    "### **Citation**\n",
    "To cite this notebook: Khalid A. Alobaid, Yasser Abduallah, Jason T. L. Wang, & Haimin Wang. Predicting CME Arrival Time through Data Integration and Ensemble Learning, available at: <a href='https://github.com/ccsc-tools/CMETNet/blob/main/KA_01_PredictingCMEArrivalTimeThroughDataIntegrationAndEnsembleLearning.ipynb' target='new'>https://github.com/ccsc-tools/CMETNet/blob/main/KA_01_PredictingCMEArrivalTimeThroughDataIntegrationAndEnsembleLearning.ipynb</a>.\n",
    "\n",
    "\n",
    "### **Acknowledgements** \n",
    "The solar wind data is provided by NASA’s Goddard Space Physics Data Facility. The SOHO LASCO CME Catalog is created and maintained by NASA’s CDAW Data Center and the Catholic University of America in cooperation with the Naval Research Laboratory. SOHO is a project of international cooperation between ESA and NASA.\n"
   ]
  },
  {
   "cell_type": "markdown",
   "metadata": {},
   "source": [
    "# **Setup**\n",
    "\n",
    "**Installation on Local Machine**<br>\n",
    "To install the required packages, you may use Python package manager \"pip\" as follow:\n",
    "1.\tCopy the text file \"requirements.txt\" into the working directory.\n",
    "2.\tExecute the command: \n",
    "\n",
    "Type:\n",
    "\n",
    "\tpip install -r requirements.txt\n",
    "\n",
    "Note: There is a requirements file already created for you to use that includes all packages with their versions. The files are located in the root directory of the CMETNet.\n",
    "Note: Python packages and libraries are sensitive to versions. Please make sure you are using the correct packages and libraries versions as specified above.\n",
    "\n",
    "Cuda Installation Package:\n",
    "You may download and install Cuda v 10.1 from https://developer.nvidia.com/cuda-10.1-download-archive-base"
   ]
  },
  {
   "cell_type": "code",
   "execution_count": null,
   "metadata": {},
   "outputs": [],
   "source": [
    "import warnings\n",
    "warnings.filterwarnings('ignore')"
   ]
  },
  {
   "cell_type": "markdown",
   "metadata": {},
   "source": [
    "# **Data Processing and Analysis**\n",
    "We stored 351 LASCO C2 FITS data samples in the data folder of this repo. The \"ICMEs_C2_fits_list.csv\" file represnt a list of the LASCO C2 FITS images along with the transit time which is the label. The transit time\n",
    "is in hours. These labeled images are used to train/test the CNN model. For the other models in CMETNet, \"ICME_list.csv\" file represnt the CME events concidered in this study along with the CME and SW parameters. These events are used to train/test the COMB model (SVR, RF, GP, XGP) of CMETNet.\n",
    "\n",
    "For this notebook, we use sample data sets for training and testing."
   ]
  },
  {
   "cell_type": "markdown",
   "metadata": {},
   "source": [
    "# **Binder**\n",
    "\n",
    "This notebook is Binder enabled and can be run on <a target='new' href='https://mybinder.org/'>mybinder.org</a> by using the image link below:\n",
    "\n",
    "<p float=\"left\"> <a href='https://mybinder.org/v2/gh/ccsc-tools/CMETNet/HEAD?labpath=KA_01_PredictingCMEArrivalTimeThroughDataIntegrationAndEnsembleLearning.ipynb' target='new'><img align=\"left\" src='https://mybinder.org/badge_logo.svg'></img></a></p>\n",
    "\n",
    "<br><br>\n",
    "Please note that starting Binder might take some time to create and start the image.\n",
    "\n",
    "Please also note that the execution time in Binder varies based on the availability of resources. The average time to run the notebook is 10-15 minutes, but it could be more.\n"
   ]
  },
  {
   "cell_type": "markdown",
   "metadata": {},
   "source": [
    "# **CMETNet Training and Testing**\n"
   ]
  },
  {
   "cell_type": "markdown",
   "metadata": {},
   "source": [
    "### **CNN Model Training and Testing**\n",
    "You may train the model with your own data or train the model with the default data.\n",
    "\n",
    "Here, we show how to train the CMETNet model with default data.\n",
    "To train the model with your own data:\n",
    "1. You should first upload your file to the data directory (in the left hand side file list).\n",
    "2. Edit the \"ICMEs_C2_fits_list.csv\" file in the data directory by adding the C2 FITS images file name and the transit time."
   ]
  },
  {
   "cell_type": "code",
   "execution_count": null,
   "metadata": {},
   "outputs": [],
   "source": [
    "print('Running the CMETNet_CNN_train.py file...')\n",
    "print('Starting with data preparation, then training the CNN model of CMETNet')\n",
    "print('Results will be stored in the results directory')\n",
    "%run CMETNet_CNN_train.py"
   ]
  },
  {
   "cell_type": "markdown",
   "metadata": {},
   "source": [
    "### **COMB Model Training and Testing**"
   ]
  },
  {
   "cell_type": "markdown",
   "metadata": {},
   "source": [
    "In this step, the COMB models (SVR, RF, GP, XGP) will be training as described in the paper. The trained models then will be used to predict test data.\n"
   ]
  },
  {
   "cell_type": "code",
   "execution_count": null,
   "metadata": {},
   "outputs": [],
   "source": [
    "print('Running the CMETNet_COMB_train.py file...')\n",
    "print('Starting with data preparation, then training the COMB models of CMETNet')\n",
    "print('Results will be stored in the results directory')\n",
    "%run CMETNet_COMB_train.py"
   ]
  },
  {
   "cell_type": "markdown",
   "metadata": {},
   "source": [
    "### **Testing the Ensemble Learning method**\n",
    "**Combining CNN and COMB models to show CMETNet prediction results**<br>"
   ]
  },
  {
   "cell_type": "code",
   "execution_count": null,
   "metadata": {},
   "outputs": [],
   "source": [
    "print('Running the ensemble py file...')\n",
    "print('Final results will be stored in the results directory')\n",
    "%run results_ensemble.py"
   ]
  },
  {
   "cell_type": "markdown",
   "metadata": {},
   "source": [
    "# **Conclusions**\n",
    "In this work we presented an ensemble framework (CMETNet) for predicting the arrival time of CME\n",
    "events. Each event contains 5 CME features (angular width, main position angle, linear speed, 2nd-order\n",
    "speed at final height, and mass), 7 solar wind parameters (Bx, Bz, alpha to proton ratio, flow longitude,\n",
    "plasma pressure, flow speed, and proton temperature) and 0-17 CME images. The CMETNet framework is\n",
    "composed of five machine learning models including support vector regression (SVR), random forest (RF),\n",
    "Gaussian process (GP), XGBoost (XGB), and a convolutional neural network (CNN). Our experimental\n",
    "results demonstrated that using all the CME features, solar wind parameters and\n",
    "CME images together yields better performance than using part of them.\n",
    "\n",
    "\n",
    "# **CMETNet paper**\n",
    "\n",
    "Predicting CME arrival time through data integration and ensemble learning<br>\n",
    "    Khalid A. Alobaid, Yasser Abduallah, Jason T. L. Wang, Haimin Wang, Haodi Jiang, Yan Xu, Vasyl Yurchyshyn, Hongyang Zhang, Huseyin Cavus and Ju Jing<br>\n",
    "        <a target='new' href='https://www.frontiersin.org/articles/10.3389/fspas.2022.1013345/full'>https://www.frontiersin.org/articles/10.3389/fspas.2022.1013345/full</a>\n",
    " \n"
   ]
  },
  {
   "cell_type": "code",
   "execution_count": null,
   "metadata": {},
   "outputs": [],
   "source": []
  }
 ],
 "metadata": {
  "kernelspec": {
   "display_name": "Python 3 (ipykernel)",
   "language": "python",
   "name": "python3"
  },
  "language_info": {
   "codemirror_mode": {
    "name": "ipython",
    "version": 3
   },
   "file_extension": ".py",
   "mimetype": "text/x-python",
   "name": "python",
   "nbconvert_exporter": "python",
   "pygments_lexer": "ipython3",
   "version": "3.8.13"
  },
  "toc": {
   "base_numbering": 1,
   "nav_menu": {},
   "number_sections": true,
   "sideBar": true,
   "skip_h1_title": false,
   "title_cell": "Table of Contents",
   "title_sidebar": "Contents",
   "toc_cell": true,
   "toc_position": {
    "height": "calc(100% - 180px)",
    "left": "10px",
    "top": "150px",
    "width": "248.182px"
   },
   "toc_section_display": true,
   "toc_window_display": true
  }
 },
 "nbformat": 4,
 "nbformat_minor": 4
}
